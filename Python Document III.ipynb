{
 "cells": [
  {
   "cell_type": "markdown",
   "metadata": {},
   "source": [
    "# Data Collections 2 (Dictionaries, Sets) and Importing Modules"
   ]
  },
  {
   "cell_type": "markdown",
   "metadata": {},
   "source": [
    "## Tasks Today:\n",
    "\n",
    "1) Dictionary <br>\n",
    " &nbsp;&nbsp;&nbsp;&nbsp; a) Declaring (key, value) <br>\n",
    " &nbsp;&nbsp;&nbsp;&nbsp; b) Accessing Values <br>\n",
    " &nbsp;&nbsp;&nbsp;&nbsp; ------ Exercise #1 - Print the eye color of each person in a double nested dict <br>\n",
    " &nbsp;&nbsp;&nbsp;&nbsp; c) Adding New Pairs <br>\n",
    " &nbsp;&nbsp;&nbsp;&nbsp; d) Modifying Values <br>\n",
    " &nbsp;&nbsp;&nbsp;&nbsp; e) Removing Key, Value Pairs <br>\n",
    " &nbsp;&nbsp;&nbsp;&nbsp; f) Looping a Dictionary <br>\n",
    " &nbsp;&nbsp;&nbsp;&nbsp; g) Looping Only Keys <br>\n",
    " &nbsp;&nbsp;&nbsp;&nbsp; h) Looping Only Values <br>\n",
    " &nbsp;&nbsp;&nbsp;&nbsp; ------ Exercise #2 - Create a Function that Prints All Key Value Pairs within a print .format()  <br>\n",
    " &nbsp;&nbsp;&nbsp;&nbsp; i) sorted() <br>\n",
    " &nbsp;&nbsp;&nbsp;&nbsp; j) Lists with Dictionaries <br>\n",
    " &nbsp;&nbsp;&nbsp;&nbsp; k) Dictionaries with Lists <br>\n",
    " &nbsp;&nbsp;&nbsp;&nbsp; l) Dictionaries with Dictionaries <br>\n",
    " &nbsp;&nbsp;&nbsp;&nbsp; ------ Exercise #3 - Write a Function that asks someone's name and address, and then stores that into a dictionary, which prints all names and addresses after they're done putting information in...  <br>\n",
    "2) Dictionaries vs. Lists (over time)<br>\n",
    "3) Set <br>\n",
    " &nbsp;&nbsp;&nbsp;&nbsp; a) Declaring <br>\n",
    " &nbsp;&nbsp;&nbsp;&nbsp; b) .add() <br>\n",
    " &nbsp;&nbsp;&nbsp;&nbsp; c) .remove() <br>\n",
    " &nbsp;&nbsp;&nbsp;&nbsp; d) .union() <br>\n",
    " &nbsp;&nbsp;&nbsp;&nbsp; e) .intersection() <br>\n",
    " &nbsp;&nbsp;&nbsp;&nbsp; f) .difference() <br>\n",
    " &nbsp;&nbsp;&nbsp;&nbsp; g) Frozen Set <br>\n",
    "4) Modules <br>\n",
    " &nbsp;&nbsp;&nbsp;&nbsp; a) Importing Entire Modules <br>\n",
    " &nbsp;&nbsp;&nbsp;&nbsp; b) Importing Methods Only <br>\n",
    " &nbsp;&nbsp;&nbsp;&nbsp; c) Using the 'as' Keyword <br>\n",
    " &nbsp;&nbsp;&nbsp;&nbsp; d) Creating a Module <br>\n",
    "5) Exercises <br>\n",
    " &nbsp;&nbsp;&nbsp;&nbsp; a) Build a Shopping Cart <br>\n",
    " &nbsp;&nbsp;&nbsp;&nbsp; b) Create Your Own Module <br>"
   ]
  },
  {
   "cell_type": "markdown",
   "metadata": {},
   "source": [
    "## Dictionary <br>\n",
    "<p>A collection of data with 'key:value' pairs. Dictionaries are ordered as of Python 3.6</p>"
   ]
  },
  {
   "cell_type": "markdown",
   "metadata": {},
   "source": [
    "##### Declaring (key, value)"
   ]
  },
  {
   "cell_type": "code",
   "execution_count": null,
   "metadata": {},
   "outputs": [],
   "source": [
    "\n",
    "my_dict = {'key1': 'value1', 'key2': 'value2', 'key3': 'value3'}\n"
   ]
  },
  {
   "cell_type": "markdown",
   "metadata": {},
   "source": [
    "##### Accessing Values"
   ]
  },
  {
   "cell_type": "code",
   "execution_count": 2,
   "metadata": {},
   "outputs": [
    {
     "name": "stdout",
     "output_type": "stream",
     "text": [
      "value1\n"
     ]
    }
   ],
   "source": [
    "\n",
    "my_dict = {'key1': 'value1', 'key2': 'value2', 'key3': 'value3'}\n",
    "value_of_key1 = my_dict['key1']\n",
    "print(value_of_key1)"
   ]
  },
  {
   "cell_type": "markdown",
   "metadata": {},
   "source": [
    "## In-Class Exercise #1 - Print a formatted statement from the dictionary below <br>\n",
    "<p>The output should be '2018 Chevrolet Silverado'</p>"
   ]
  },
  {
   "cell_type": "code",
   "execution_count": 3,
   "metadata": {},
   "outputs": [
    {
     "name": "stdout",
     "output_type": "stream",
     "text": [
      "The truck is a 2018 Chevrolet Silverado.\n"
     ]
    }
   ],
   "source": [
    "# use the dict below\n",
    "truck = {\n",
    "    'year': 2018,\n",
    "    'make': 'Chevrolet',\n",
    "    'model': 'Silverado'\n",
    "}\n",
    "\n",
    "formatted_statement = f\"The truck is a {truck['year']} {truck['make']} {truck['model']}.\"\n",
    "\n",
    "print(formatted_statement)\n"
   ]
  },
  {
   "cell_type": "markdown",
   "metadata": {},
   "source": [
    "##### Adding New Pairs"
   ]
  },
  {
   "cell_type": "code",
   "execution_count": 4,
   "metadata": {},
   "outputs": [
    {
     "name": "stdout",
     "output_type": "stream",
     "text": [
      "{'year': 2018, 'make': 'Chevrolet', 'model': 'Silverado', 'color': 'Red', 'mileage': 50000}\n"
     ]
    }
   ],
   "source": [
    "truck = {\n",
    "    'year': 2018,\n",
    "    'make': 'Chevrolet',\n",
    "    'model': 'Silverado'\n",
    "}\n",
    "\n",
    "\n",
    "truck['color'] = 'Red'\n",
    "truck['mileage'] = 50000\n",
    "\n",
    "print(truck)"
   ]
  },
  {
   "cell_type": "markdown",
   "metadata": {},
   "source": [
    "##### Modifying Values"
   ]
  },
  {
   "cell_type": "code",
   "execution_count": null,
   "metadata": {},
   "outputs": [],
   "source": [
    "truck = {\n",
    "    'year': 2018,\n",
    "    'make': 'Chevrolet',\n",
    "    'model': 'Silverado'\n",
    "}\n",
    "\n",
    "truck['year'] = 2020\n",
    "truck['model'] = 'Colorado'  \n",
    "print(truck)\n"
   ]
  },
  {
   "cell_type": "markdown",
   "metadata": {},
   "source": [
    "##### Removing Key, Value Pairs"
   ]
  },
  {
   "cell_type": "code",
   "execution_count": 5,
   "metadata": {},
   "outputs": [
    {
     "name": "stdout",
     "output_type": "stream",
     "text": [
      "{'year': 2018, 'make': 'Chevrolet', 'model': 'Silverado'}\n"
     ]
    }
   ],
   "source": [
    "truck = {\n",
    "    'year': 2018,\n",
    "    'make': 'Chevrolet',\n",
    "    'model': 'Silverado',\n",
    "    'color': 'Red',\n",
    "    'mileage': 50000\n",
    "}\n",
    "\n",
    "del truck['color'] \n",
    "removed_mileage = truck.pop('mileage')\n",
    "\n",
    "print(truck)\n"
   ]
  },
  {
   "cell_type": "markdown",
   "metadata": {},
   "source": [
    "##### Looping a Dictionary"
   ]
  },
  {
   "cell_type": "code",
   "execution_count": 6,
   "metadata": {},
   "outputs": [
    {
     "name": "stdout",
     "output_type": "stream",
     "text": [
      "year: 2018\n",
      "make: Chevrolet\n",
      "model: Silverado\n",
      "color: Red\n",
      "mileage: 50000\n"
     ]
    }
   ],
   "source": [
    "truck = {\n",
    "    'year': 2018,\n",
    "    'make': 'Chevrolet',\n",
    "    'model': 'Silverado',\n",
    "    'color': 'Red',\n",
    "    'mileage': 50000\n",
    "}\n",
    "\n",
    "\n",
    "for key, value in truck.items():\n",
    "    print(f\"{key}: {value}\")\n",
    "\n"
   ]
  },
  {
   "cell_type": "markdown",
   "metadata": {},
   "source": [
    "##### Looping Only Keys"
   ]
  },
  {
   "cell_type": "code",
   "execution_count": 7,
   "metadata": {},
   "outputs": [
    {
     "name": "stdout",
     "output_type": "stream",
     "text": [
      "Keys:\n",
      "year\n",
      "make\n",
      "model\n",
      "color\n",
      "mileage\n"
     ]
    }
   ],
   "source": [
    "truck = {\n",
    "    'year': 2018,\n",
    "    'make': 'Chevrolet',\n",
    "    'model': 'Silverado',\n",
    "    'color': 'Red',\n",
    "    'mileage': 50000\n",
    "}\n",
    "\n",
    "for key in truck:\n",
    "    print(key)\n",
    "\n"
   ]
  },
  {
   "cell_type": "markdown",
   "metadata": {},
   "source": [
    "##### Looping Only Values"
   ]
  },
  {
   "cell_type": "code",
   "execution_count": null,
   "metadata": {},
   "outputs": [],
   "source": [
    "truck = {\n",
    "    'year': 2018,\n",
    "    'make': 'Chevrolet',\n",
    "    'model': 'Silverado',\n",
    "    'color': 'Red',\n",
    "    'mileage': 50000\n",
    "}\n",
    "\n",
    "for value in truck.values():\n",
    "    print(value)\n"
   ]
  },
  {
   "cell_type": "markdown",
   "metadata": {},
   "source": [
    "## In-Class Exercise #2 - Create a Function that Prints All Key Value Pairs within a print .format() <br>\n",
    "<p><b>Output should be:</b><br>\n",
    "Max has blue eyes<br>\n",
    "Lilly has brown eyes<br>\n",
    "Barney has blue eyes<br>\n",
    "etc.\n",
    "</p>"
   ]
  },
  {
   "cell_type": "code",
   "execution_count": 8,
   "metadata": {},
   "outputs": [
    {
     "name": "stdout",
     "output_type": "stream",
     "text": [
      "Max: blue\n",
      "Lilly: brown\n",
      "Barney: blue\n",
      "Larney: brown\n",
      "Ted: purple\n"
     ]
    }
   ],
   "source": [
    "def print_key_value_pairs(dictionary):\n",
    "    for key, value in dictionary.items():\n",
    "        print(\"{}: {}\".format(key, value))\n",
    "\n",
    "people = {\n",
    "    'Max': 'blue',\n",
    "    'Lilly': 'brown',\n",
    "    'Barney': 'blue',\n",
    "    'Larney': 'brown',\n",
    "    'Ted': 'purple'\n",
    "}\n",
    "\n",
    "print_key_value_pairs(people)\n",
    "\n"
   ]
  },
  {
   "cell_type": "markdown",
   "metadata": {},
   "source": [
    "##### sorted()"
   ]
  },
  {
   "cell_type": "code",
   "execution_count": null,
   "metadata": {},
   "outputs": [],
   "source": [
    "people = {\n",
    "    'Max': 'blue',\n",
    "    'Lilly': 'brown',\n",
    "    'Barney': 'blue',\n",
    "    'Larney': 'brown',\n",
    "    'Ted': 'purple'\n",
    "}\n",
    "\n",
    "sorted_keys = sorted(people) \n",
    "\n",
    "print(\"Sorted Keys:\")\n",
    "for key in sorted_keys:\n",
    "    print(key, \": \", people[key])\n",
    "\n",
    "\n"
   ]
  },
  {
   "cell_type": "markdown",
   "metadata": {},
   "source": [
    "##### List with Dictionaries"
   ]
  },
  {
   "cell_type": "code",
   "execution_count": 9,
   "metadata": {},
   "outputs": [
    {
     "name": "stdout",
     "output_type": "stream",
     "text": [
      "Name: Alice\n",
      "Age: 25\n",
      "Country: USA\n",
      "Name: Bob\n",
      "Age: 30\n",
      "Country: Canada\n",
      "Name: Charlie\n",
      "Age: 28\n",
      "Country: UK\n"
     ]
    }
   ],
   "source": [
    "\n",
    "list_of_dicts = [\n",
    "    {'name': 'Alice', 'age': 25, 'country': 'USA'},\n",
    "    {'name': 'Bob', 'age': 30, 'country': 'Canada'},\n",
    "    {'name': 'Charlie', 'age': 28, 'country': 'UK'}\n",
    "]\n",
    "\n",
    "for person in list_of_dicts:\n",
    "    print(\"Name:\", person['name'])\n",
    "    print(\"Age:\", person['age'])\n",
    "    print(\"Country:\", person['country'])\n",
    "    \n"
   ]
  },
  {
   "cell_type": "markdown",
   "metadata": {},
   "source": [
    "##### Dictionaries with Lists"
   ]
  },
  {
   "cell_type": "code",
   "execution_count": 12,
   "metadata": {},
   "outputs": [
    {
     "name": "stdout",
     "output_type": "stream",
     "text": [
      "fruits: apple\n",
      "colors: red\n",
      "numbers: 1\n"
     ]
    }
   ],
   "source": [
    "\n",
    "dictionary_with_lists = {\n",
    "    'fruits': ['apple', 'banana', 'orange'],\n",
    "    'colors': ['red', 'green', 'blue'],\n",
    "    'numbers': [1, 2, 3, 4, 5]\n",
    "}\n",
    "\n",
    "for key, value in dictionary_with_lists.items():\n",
    "    print(f\"{key}: {value[0]}\")\n"
   ]
  },
  {
   "cell_type": "markdown",
   "metadata": {},
   "source": [
    "##### Dictionaries with Dictionaries"
   ]
  },
  {
   "cell_type": "code",
   "execution_count": 13,
   "metadata": {},
   "outputs": [
    {
     "name": "stdout",
     "output_type": "stream",
     "text": [
      "person1:\n",
      "    name: Alice\n",
      "    age: 25\n",
      "    country: USA\n",
      "person2:\n",
      "    name: Bob\n",
      "    age: 30\n",
      "    country: Canada\n",
      "person3:\n",
      "    name: Charlie\n",
      "    age: 28\n",
      "    country: UK\n"
     ]
    }
   ],
   "source": [
    "\n",
    "dictionary_with_dicts = {\n",
    "    'person1': {'name': 'Alice', 'age': 25, 'country': 'USA'},\n",
    "    'person2': {'name': 'Bob', 'age': 30, 'country': 'Canada'},\n",
    "    'person3': {'name': 'Charlie', 'age': 28, 'country': 'UK'}\n",
    "}\n",
    "\n",
    "for key, value in dictionary_with_dicts.items():\n",
    "    print(f\"{key}:\")\n",
    "    for inner_key, inner_value in value.items():\n",
    "        print(f\"    {inner_key}: {inner_value}\")\n",
    "\n",
    "\n"
   ]
  },
  {
   "cell_type": "markdown",
   "metadata": {},
   "source": [
    "## Dictionaries vs. Lists (over time) Example of RUNTIME\n",
    "### When inputting values in a Dictionary vs List"
   ]
  },
  {
   "cell_type": "code",
   "execution_count": null,
   "metadata": {},
   "outputs": [],
   "source": [
    "import time\n",
    "\n",
    "\n",
    "# generate fake dictionary\n",
    "d = {}\n",
    "\n",
    "for i in range(10000000):\n",
    "    d[i] = 'value'\n",
    "    \n",
    "\n",
    "# generate fake list\n",
    "big_list = [x for x in range(10000000)]"
   ]
  },
  {
   "cell_type": "code",
   "execution_count": null,
   "metadata": {},
   "outputs": [],
   "source": [
    "# tracking time for dictionary\n",
    "start_time = time.time()\n",
    "\n",
    "print(d[9999999])\n",
    "\n",
    "end_time = time.time() - start_time\n",
    "\n",
    "print('Elapsed time for dictionary: {}'.format(end_time))\n",
    "\n",
    "\n",
    "# tracking time for list\n",
    "start_time = time.time()\n",
    "\n",
    "for i in range(len(big_list)):\n",
    "    if i == 9999999:\n",
    "        print(i)\n",
    "\n",
    "end_time = time.time() - start_time\n",
    "\n",
    "print('Elapsed time for list: {}'.format(end_time))"
   ]
  },
  {
   "cell_type": "markdown",
   "metadata": {},
   "source": [
    "## Exercise #3 - Write a Function that asks someone's name and address, and then stores that into a dictionary, and continues to do so until they choose to 'quit'. Once they quit, the program should print all names and addresses. <br>\n",
    "<p>\n",
    "<b>Proper steps:</b><br>\n",
    "step 1: write a function that takes in information and stores it in a dictionary<br>\n",
    "step 2: define an empty dictionary to work with<br>\n",
    "step 3: create our loop, which asks the user for information until they quit<br>\n",
    "step 4: ask for the information, and store it into variables<br>\n",
    "step 5: check if the user types quit<br>\n",
    "step 5a: print out all information<br>\n",
    "step 5b: break out of the loop<br>\n",
    "step 6: if they didn't quit, add the information to the dictionary<br>\n",
    "step 7: invoke the function by calling it\n",
    "</p>"
   ]
  },
  {
   "cell_type": "code",
   "execution_count": 14,
   "metadata": {},
   "outputs": [
    {
     "name": "stdout",
     "output_type": "stream",
     "text": [
      "Enter the name (or type 'quit' to exit): davon\n",
      "Enter the address: ny\n",
      "Enter the name (or type 'quit' to exit): quit\n",
      "\n",
      "All Names and Addresses:\n",
      "Name: davon, Address: ny\n"
     ]
    }
   ],
   "source": [
    "def store_info():\n",
    "    contacts = {}\n",
    "\n",
    "    while True:\n",
    "        name = input(\"Enter the name (or type 'quit' to exit): \")\n",
    "        if name.lower() == 'quit':\n",
    "            print(\"\\nAll Names and Addresses:\")\n",
    "            for person, address in contacts.items():\n",
    "                print(f\"Name: {person}, Address: {address}\")\n",
    "            break\n",
    "\n",
    "        address = input(\"Enter the address: \")\n",
    "        if address.lower() == 'quit':\n",
    "            print(\"\\nAll Names and Addresses:\")\n",
    "            for person, addr in contacts.items():\n",
    "                print(f\"Name: {person}, Address: {addr}\")\n",
    "            break\n",
    "\n",
    "        \n",
    "        contacts[name] = address\n",
    "\n",
    "store_info()\n",
    "\n"
   ]
  },
  {
   "cell_type": "markdown",
   "metadata": {},
   "source": [
    "## Set <br>\n",
    "<p>A Set is an unordered collection data type that is iterable (loop), mutable, and has no duplicate elements.<br>Major advantage is that it is highly optimized in checking if something is in the set, as opposed to checking if something is in a list.</p>"
   ]
  },
  {
   "cell_type": "markdown",
   "metadata": {},
   "source": [
    "##### Declaring"
   ]
  },
  {
   "cell_type": "code",
   "execution_count": 15,
   "metadata": {},
   "outputs": [
    {
     "name": "stdout",
     "output_type": "stream",
     "text": [
      "{1, 2, 3, 4, 5}\n"
     ]
    }
   ],
   "source": [
    "my_set = {1, 2, 3, 4, 5}\n",
    "print(my_set)\n"
   ]
  },
  {
   "cell_type": "markdown",
   "metadata": {},
   "source": [
    "##### .add()"
   ]
  },
  {
   "cell_type": "code",
   "execution_count": 16,
   "metadata": {},
   "outputs": [
    {
     "name": "stdout",
     "output_type": "stream",
     "text": [
      "{1, 2, 3, 4, 5}\n"
     ]
    }
   ],
   "source": [
    "my_set = {1, 2, 3}\n",
    "my_set.add(4)\n",
    "my_set.add(5)\n",
    "print(my_set)\n"
   ]
  },
  {
   "cell_type": "markdown",
   "metadata": {},
   "source": [
    "##### .remove()"
   ]
  },
  {
   "cell_type": "code",
   "execution_count": null,
   "metadata": {},
   "outputs": [],
   "source": [
    "my_set = {1, 2, 3, 4, 5}\n",
    "my_set.remove(3)\n",
    "print(my_set)\n",
    "\n"
   ]
  },
  {
   "cell_type": "markdown",
   "metadata": {},
   "source": [
    "##### .union() "
   ]
  },
  {
   "cell_type": "code",
   "execution_count": null,
   "metadata": {},
   "outputs": [],
   "source": [
    "set1 = {1, 2, 3}\n",
    "set2 = {3, 4, 5}\n",
    "\n",
    "result = set1.union(set2)\n",
    "print(result)"
   ]
  },
  {
   "cell_type": "markdown",
   "metadata": {},
   "source": [
    "##### .intersection()"
   ]
  },
  {
   "cell_type": "code",
   "execution_count": null,
   "metadata": {},
   "outputs": [],
   "source": [
    "set1 = {1, 2, 3, 4}\n",
    "set2 = {3, 4, 5, 6}\n",
    "\n",
    "result = set1.intersection(set2)\n",
    "print(result) \n",
    "\n"
   ]
  },
  {
   "cell_type": "markdown",
   "metadata": {},
   "source": [
    "##### .difference()"
   ]
  },
  {
   "cell_type": "code",
   "execution_count": 50,
   "metadata": {},
   "outputs": [
    {
     "name": "stdout",
     "output_type": "stream",
     "text": [
      "{1, 2}\n"
     ]
    }
   ],
   "source": [
    "set1 = {1, 2, 3, 4}\n",
    "set2 = {3, 4, 5, 6}\n",
    "\n",
    "result = set1.difference(set2)\n",
    "print(result)\n",
    "\n"
   ]
  },
  {
   "cell_type": "markdown",
   "metadata": {},
   "source": [
    "##### .clear()"
   ]
  },
  {
   "cell_type": "code",
   "execution_count": null,
   "metadata": {},
   "outputs": [],
   "source": [
    "set1 = {1, 2, 3, 4}\n",
    "set1.clear()\n"
   ]
  },
  {
   "cell_type": "markdown",
   "metadata": {},
   "source": [
    "##### Frozenset <br>\n",
    "<p>Frozen sets are immutable objects that only support methods and operators that produce a result without affecting the frozen set or sets to which they are applied.</p><br><b>Unique & Immutable</b>"
   ]
  },
  {
   "cell_type": "code",
   "execution_count": null,
   "metadata": {},
   "outputs": [],
   "source": [
    " my_frozenset = frozenset([1, 2, 3, 4, 5])\n",
    "\n",
    "# Attempting to add an element to a frozenset will result in an error\n"
   ]
  },
  {
   "cell_type": "markdown",
   "metadata": {},
   "source": [
    "## Modules"
   ]
  },
  {
   "cell_type": "markdown",
   "metadata": {},
   "source": [
    "##### Importing Entire Modules"
   ]
  },
  {
   "cell_type": "code",
   "execution_count": null,
   "metadata": {},
   "outputs": [],
   "source": [
    "import module_name\n",
    "\n",
    "\n"
   ]
  },
  {
   "cell_type": "markdown",
   "metadata": {},
   "source": [
    "##### Importing Methods Only"
   ]
  },
  {
   "cell_type": "code",
   "execution_count": null,
   "metadata": {},
   "outputs": [],
   "source": [
    "from module_name import function1, function2\n",
    "\n",
    "\n",
    "\n"
   ]
  },
  {
   "cell_type": "markdown",
   "metadata": {},
   "source": [
    "##### Using the 'as' Keyword"
   ]
  },
  {
   "cell_type": "code",
   "execution_count": null,
   "metadata": {},
   "outputs": [],
   "source": [
    "from module_name import function_name as alias_name\n",
    "\n"
   ]
  },
  {
   "cell_type": "markdown",
   "metadata": {},
   "source": [
    "##### Creating a Module"
   ]
  },
  {
   "cell_type": "code",
   "execution_count": null,
   "metadata": {},
   "outputs": [],
   "source": [
    "\n",
    "\n",
    "import my_module\n",
    "\n",
    "print(my_module.greeting(\"Alice\"))  # Output: Hello, Alice!\n",
    "\n"
   ]
  },
  {
   "cell_type": "markdown",
   "metadata": {},
   "source": [
    "# Exercises"
   ]
  },
  {
   "cell_type": "markdown",
   "metadata": {},
   "source": [
    "### 1) Build a Shopping Cart <br>\n",
    "<p><b>You can use either lists or dictionaries. The program should have the following capabilities:</b><br><br>\n",
    "1) Takes in input <br>\n",
    "2) Stores user input into a dictionary or list <br>\n",
    "3) The User can add or delete items <br>\n",
    "4) The User can see current shopping list <br>\n",
    "5) The program Loops until user 'quits' <br>\n",
    "6) Upon quiting the program, print out all items in the user's list <br>\n",
    "</p>"
   ]
  },
  {
   "cell_type": "code",
   "execution_count": 63,
   "metadata": {},
   "outputs": [
    {
     "name": "stdout",
     "output_type": "stream",
     "text": [
      "Please enter the number for the product you want to buy \n",
      "\n",
      "1) T_shirt : 10.0 \n",
      "2) Hoodie : 20.0 \n",
      "3) jeans : 15.0 \n",
      "4) glasses : 5.0 \n",
      "5) sneakers : 25.0 \n",
      "6) socks : 3.0 \n",
      "3\n",
      "Here is your Cart \n",
      "\n",
      "jeans : 15.0\n",
      "Do you want to: Show/Add/Delete or Quit? add\n",
      "Please enter the number for the product you want to buy \n",
      "\n",
      "1) T_shirt : 10.0 \n",
      "2) Hoodie : 20.0 \n",
      "3) jeans : 15.0 \n",
      "4) glasses : 5.0 \n",
      "5) sneakers : 25.0 \n",
      "6) socks : 3.0 \n",
      "6\n",
      "Do you want to: Show/Add/Delete or Quit? add\n",
      "Please enter the number for the product you want to buy \n",
      "\n",
      "1) T_shirt : 10.0 \n",
      "2) Hoodie : 20.0 \n",
      "3) jeans : 15.0 \n",
      "4) glasses : 5.0 \n",
      "5) sneakers : 25.0 \n",
      "6) socks : 3.0 \n",
      "2\n",
      "Do you want to: Show/Add/Delete or Quit? show\n",
      "Here is your Cart \n",
      "\n",
      "jeans : 15.0\n",
      "socks : 3.0\n",
      "Hoodie : 20.0\n",
      "Total : 38.0\n",
      "Do you want to: Show/Add/Delete or Quit? delete\n",
      "Here is your Cart pick the number of the product you want to delete \n",
      "\n",
      "1 jeans : 15.0\n",
      "2 socks : 3.0\n",
      "3 Hoodie : 20.0\n",
      "3\n",
      "Do you want to: Show/Add/Delete or Quit? show\n",
      "Here is your Cart \n",
      "\n",
      "jeans : 15.0\n",
      "socks : 3.0\n",
      "Total : 18.0\n",
      "Do you want to: Show/Add/Delete or Quit? quit\n",
      "Here is your Cart thanks for shopping \n",
      "\n",
      "jeans : 15.0\n",
      "socks : 3.0\n",
      "Total purchase : 18.0\n"
     ]
    }
   ],
   "source": [
    "from IPython.display import clear_output\n",
    "def Cart():\n",
    "    ecommerce = {\n",
    "        1: {\"T_shirt\": 10.00},\n",
    "        2: {\"Hoodie\": 20.00},\n",
    "        3: {\"jeans\": 15.00},\n",
    "        4: {\"glasses\": 5.00},\n",
    "        5: {\"sneakers\": 25.00},\n",
    "        6: {\"socks\": 3.00}\n",
    "    }\n",
    "    \n",
    "    print(\"Please enter the number for the product you want to buy \\n\")\n",
    "    for key1, value1 in ecommerce.items():\n",
    "        for key2, value2 in value1.items():\n",
    "            print(f\"{key1}) {key2} : {value2} \")\n",
    "    userPurchase = input()\n",
    "    Cart = {}\n",
    "    counter = 0\n",
    "    print(\"Here is your Cart \\n\")\n",
    "    for key1, value1 in ecommerce.items():\n",
    "        for key2, value2 in value1.items():\n",
    "            if int(userPurchase) == key1:\n",
    "                counter += 1\n",
    "                Cart[counter] = {key2: value2}\n",
    "\n",
    "    for key, value in Cart.items():\n",
    "        for key2, value2 in value.items():\n",
    "            print(f\"{key2} : {value2}\")\n",
    "\n",
    "    while True:\n",
    "        userInput2 = input(\"Do you want to: Show/Add/Delete or Quit? \")\n",
    "        if userInput2.lower() == \"show\":\n",
    "            cartValue = 0\n",
    "            print(\"Here is your Cart \\n\")\n",
    "            for key, value in Cart.items():\n",
    "                for key2, value2 in value.items():\n",
    "                    print(f\"{key2} : {value2}\")\n",
    "                    cartValue += float(value2)\n",
    "            print(f\"Total : {cartValue}\")\n",
    "        elif userInput2.lower() == \"add\":\n",
    "            print(\"Please enter the number for the product you want to buy \\n\")\n",
    "            for key1, value1 in ecommerce.items():\n",
    "                for key2, value2 in value1.items():\n",
    "                    print(f\"{key1}) {key2} : {value2} \")\n",
    "            userPurchase = input()\n",
    "            for key1, value1 in ecommerce.items():\n",
    "                for key2, value2 in value1.items():\n",
    "                    if int(userPurchase) == key1:\n",
    "                        counter += 1\n",
    "                        Cart[counter] = {key2: value2}\n",
    "        elif userInput2.lower() == \"delete\":\n",
    "            print(\"Here is your Cart pick the number of the product you want to delete \\n\")\n",
    "            for key, value in Cart.items():\n",
    "                for key2, value2 in value.items():\n",
    "                    print(f\"{key} {key2} : {value2}\")\n",
    "            userInput2 = input()\n",
    "            del Cart[int(userInput2)]\n",
    "        elif userInput2.lower() == \"quit\":\n",
    "            print(\"Here is your Cart thanks for shopping \\n\")\n",
    "            cartValue = 0\n",
    "            for key, value in Cart.items():\n",
    "                for key2, value2 in value.items():\n",
    "                    print(f\"{key2} : {value2}\")\n",
    "                    cartValue += float(value2)\n",
    "            print(f\"Total purchase : {cartValue}\")\n",
    "            break\n",
    "        else:\n",
    "            print(\"invalid entry\")\n",
    "\n",
    "Cart()\n"
   ]
  },
  {
   "cell_type": "markdown",
   "metadata": {},
   "source": [
    "### 2) Create a Module in VS Code and Import It into jupyter notebook <br>\n",
    "<p><b>Module should have the following capabilities:</b><br><br>\n",
    "1) Has a function to calculate the square footage of a house <br>\n",
    "    <b>Reminder of Formula: Length X Width == Area<br>\n",
    "        <hr>\n",
    "2) Has a function to calculate the circumference of a circle <br><br>\n",
    "<b>Program in Jupyter Notebook should take in user input and use imported functions to calculate a circle's circumference or a houses square footage</b>\n",
    "</p>"
   ]
  },
  {
   "cell_type": "code",
   "execution_count": 71,
   "metadata": {},
   "outputs": [
    {
     "name": "stdout",
     "output_type": "stream",
     "text": [
      "480\n",
      "31.41592653589793\n"
     ]
    }
   ],
   "source": [
    "from module import calculate_house_square_footage, calculate_circle_circumference\n",
    "room_dimensions = [\n",
    "    (15, 12),  \n",
    "    (10, 10),  \n",
    "    (12, 10),  \n",
    "    (10, 8)    \n",
    "   \n",
    "]\n",
    "\n",
    "sqfoot = calculate_house_square_footage(room_dimensions)\n",
    "print (sqfoot)\n",
    "\n",
    "radius = 5\n",
    "circle_circumference = calculate_circle_circumference(radius)\n",
    "print(circle_circumference)"
   ]
  },
  {
   "cell_type": "code",
   "execution_count": null,
   "metadata": {},
   "outputs": [],
   "source": []
  },
  {
   "cell_type": "code",
   "execution_count": null,
   "metadata": {},
   "outputs": [],
   "source": []
  }
 ],
 "metadata": {
  "kernelspec": {
   "display_name": "Python 3 (ipykernel)",
   "language": "python",
   "name": "python3"
  },
  "language_info": {
   "codemirror_mode": {
    "name": "ipython",
    "version": 3
   },
   "file_extension": ".py",
   "mimetype": "text/x-python",
   "name": "python",
   "nbconvert_exporter": "python",
   "pygments_lexer": "ipython3",
   "version": "3.11.5"
  }
 },
 "nbformat": 4,
 "nbformat_minor": 2
}
